{
 "cells": [
  {
   "cell_type": "code",
   "execution_count": 62,
   "id": "33ffbb09",
   "metadata": {},
   "outputs": [],
   "source": [
    "import pandas as pd\n",
    "from dbHelpers import createEngine\n",
    "import numpy as np\n",
    "import uuid"
   ]
  },
  {
   "cell_type": "code",
   "execution_count": 63,
   "id": "167a5b2f",
   "metadata": {},
   "outputs": [],
   "source": [
    "engine = createEngine()"
   ]
  },
  {
   "cell_type": "code",
   "execution_count": 101,
   "id": "c4ea686f",
   "metadata": {},
   "outputs": [],
   "source": [
    "states = pd.read_sql('select * from npd.fips_state', con = engine)\n",
    "states.set_index('abbreviation', inplace=True)"
   ]
  },
  {
   "cell_type": "code",
   "execution_count": 102,
   "id": "97367c6c",
   "metadata": {},
   "outputs": [],
   "source": [
    "npis = pd.read_sql('select individual_id, organization_id, n. npi from npd.npi n left join npd.provider p on p.npi=n.npi left join npd.clinical_organization o on o.npi = n.npi', con = engine)\n",
    "npis.set_index('npi', inplace=True)"
   ]
  },
  {
   "cell_type": "code",
   "execution_count": 103,
   "id": "047de620",
   "metadata": {},
   "outputs": [],
   "source": [
    "df = pd.read_csv('addresses.csv')"
   ]
  },
  {
   "cell_type": "code",
   "execution_count": 104,
   "id": "11558a1d",
   "metadata": {},
   "outputs": [],
   "source": [
    "df['state'] = [states.loc[s]['id'] for s in df['state']]"
   ]
  },
  {
   "cell_type": "code",
   "execution_count": 105,
   "id": "a9bdf94c",
   "metadata": {},
   "outputs": [],
   "source": [
    "df['delivery_line_2'] = [f\"Ste {l.split(' Ste ')[1]}\" if ' Ste ' in l else np.nan for l in df['delivery_line_1']]"
   ]
  },
  {
   "cell_type": "code",
   "execution_count": 106,
   "id": "c4274f41",
   "metadata": {},
   "outputs": [],
   "source": [
    "df['delivery_line_1'] = [l.split(' Ste ')[0] if ' Ste ' in l else l for l in df['delivery_line_1']]"
   ]
  },
  {
   "cell_type": "code",
   "execution_count": 107,
   "id": "0f362aca",
   "metadata": {},
   "outputs": [],
   "source": [
    "dedup_address = df[['id', 'latitude', 'longitude', 'delivery_line_1', 'delivery_line_2', 'city', 'state', 'postalcode', 'record_type']].drop_duplicates()"
   ]
  },
  {
   "cell_type": "code",
   "execution_count": 114,
   "id": "572b8a9b",
   "metadata": {},
   "outputs": [
    {
     "data": {
      "text/plain": [
       "734"
      ]
     },
     "execution_count": 114,
     "metadata": {},
     "output_type": "execute_result"
    }
   ],
   "source": [
    "dedup_address.rename(columns={'postalcode':'zipcode', 'city':'city_name', 'state':'state_code'}).to_sql('address_us', con = engine, if_exists = 'append', index=False, schema='npd')"
   ]
  },
  {
   "cell_type": "code",
   "execution_count": 115,
   "id": "2217f5ab",
   "metadata": {},
   "outputs": [],
   "source": [
    "dedup_address.rename(columns={'id':'address_us_id'}, inplace=True)\n",
    "dedup_address['id'] = [str(uuid.uuid4()) for i in dedup_address.index]\n",
    "address_ids = dedup_address[['id', 'address_us_id']]"
   ]
  },
  {
   "cell_type": "code",
   "execution_count": 116,
   "id": "8efdd652",
   "metadata": {},
   "outputs": [
    {
     "data": {
      "text/plain": [
       "734"
      ]
     },
     "execution_count": 116,
     "metadata": {},
     "output_type": "execute_result"
    }
   ],
   "source": [
    "address_ids.to_sql('address', con = engine, if_exists = 'append', index=False, schema='npd')"
   ]
  },
  {
   "cell_type": "code",
   "execution_count": 117,
   "id": "fb95c5b7",
   "metadata": {},
   "outputs": [],
   "source": [
    "address_ids.set_index('address_us_id', inplace=True)"
   ]
  },
  {
   "cell_type": "code",
   "execution_count": 118,
   "id": "59982306",
   "metadata": {},
   "outputs": [],
   "source": [
    "df['address_id'] = [address_ids.loc[a]['id'] for a in df['id']]"
   ]
  },
  {
   "cell_type": "code",
   "execution_count": 119,
   "id": "e9ffca7b",
   "metadata": {},
   "outputs": [],
   "source": [
    "df['organization_id'] = [npis.loc[n]['organization_id'] for n in df['npi']]\n",
    "df['individual_id'] = [npis.loc[n]['individual_id'] for n in df['npi']]"
   ]
  },
  {
   "cell_type": "code",
   "execution_count": 124,
   "id": "761f52e6",
   "metadata": {},
   "outputs": [],
   "source": [
    "individual_addresses = df.dropna(subset='individual_id')[['address_id', 'individual_id']]\n",
    "individual_addresses['address_use_id'] = 2\n",
    "individual_addresses.drop_duplicates(inplace = True)"
   ]
  },
  {
   "cell_type": "code",
   "execution_count": 126,
   "id": "edd4edd0",
   "metadata": {},
   "outputs": [
    {
     "data": {
      "text/plain": [
       "190"
      ]
     },
     "execution_count": 126,
     "metadata": {},
     "output_type": "execute_result"
    }
   ],
   "source": [
    "individual_addresses.to_sql('individual_to_address', con = engine, if_exists = 'append', index=False, schema='npd')"
   ]
  },
  {
   "cell_type": "code",
   "execution_count": 127,
   "id": "7de572d0",
   "metadata": {},
   "outputs": [],
   "source": [
    "organization_addresses = df.dropna(subset='organization_id')[['address_id', 'organization_id']]\n",
    "organization_addresses['address_use_id'] = 2\n",
    "organization_addresses.drop_duplicates(inplace = True)"
   ]
  },
  {
   "cell_type": "code",
   "execution_count": 128,
   "id": "42738db9",
   "metadata": {},
   "outputs": [
    {
     "data": {
      "text/plain": [
       "79"
      ]
     },
     "execution_count": 128,
     "metadata": {},
     "output_type": "execute_result"
    }
   ],
   "source": [
    "organization_addresses.to_sql('organization_to_address', con = engine, if_exists = 'append', index=False, schema='npd')"
   ]
  },
  {
   "cell_type": "code",
   "execution_count": null,
   "id": "4c1f40d2",
   "metadata": {},
   "outputs": [],
   "source": []
  }
 ],
 "metadata": {
  "kernelspec": {
   "display_name": "Python 3",
   "language": "python",
   "name": "python3"
  },
  "language_info": {
   "codemirror_mode": {
    "name": "ipython",
    "version": 3
   },
   "file_extension": ".py",
   "mimetype": "text/x-python",
   "name": "python",
   "nbconvert_exporter": "python",
   "pygments_lexer": "ipython3",
   "version": "3.11.0"
  }
 },
 "nbformat": 4,
 "nbformat_minor": 5
}
